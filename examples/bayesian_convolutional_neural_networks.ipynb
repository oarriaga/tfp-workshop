{
 "cells": [
  {
   "cell_type": "markdown",
   "metadata": {},
   "source": [
    "# Example modified from [zhulingchen/tfp-tutorial](https://github.com/zhulingchen/tfp-tutorial/blob/master/tfp_bnn.ipynb)"
   ]
  },
  {
   "cell_type": "code",
   "execution_count": 1,
   "metadata": {},
   "outputs": [],
   "source": [
    "import tensorflow as tf\n",
    "import tensorflow_probability as tfp\n",
    "from tensorflow_probability import distributions as tfd\n",
    "import numpy as np\n",
    "import matplotlib.pyplot as plt\n",
    "\n",
    "%matplotlib inline"
   ]
  },
  {
   "cell_type": "code",
   "execution_count": 2,
   "metadata": {},
   "outputs": [
    {
     "name": "stdout",
     "output_type": "stream",
     "text": [
      "Loading MNIST dataset\n",
      "X_train.shape = (60000, 28, 28, 1)\n",
      "y_train.shape = (60000, 10)\n",
      "X_test.shape = (10000, 28, 28, 1)\n",
      "y_test.shape = (10000, 10)\n"
     ]
    },
    {
     "data": {
      "text/plain": [
       "<matplotlib.image.AxesImage at 0x7fc4d1aca640>"
      ]
     },
     "execution_count": 2,
     "metadata": {},
     "output_type": "execute_result"
    },
    {
     "data": {
      "image/png": "[encoded data removed]",
      "text/plain": [
       "<Figure size 432x288 with 1 Axes>"
      ]
     },
     "metadata": {
      "needs_background": "light"
     },
     "output_type": "display_data"
    }
   ],
   "source": [
    "print('Loading MNIST dataset')\n",
    "num_classes = 10\n",
    "(X_train, y_train), (X_test, y_test) = tf.keras.datasets.mnist.load_data()\n",
    "X_train = np.expand_dims(X_train, -1)\n",
    "n_train = X_train.shape[0]\n",
    "X_test = np.expand_dims(X_test, -1)\n",
    "y_train = tf.keras.utils.to_categorical(y_train, num_classes)\n",
    "y_test = tf.keras.utils.to_categorical(y_test, num_classes)\n",
    "\n",
    "# Normalize data\n",
    "X_train = X_train.astype('float32') / 255\n",
    "X_test = X_test.astype('float32') / 255\n",
    "\n",
    "print(\"X_train.shape =\", X_train.shape)\n",
    "print(\"y_train.shape =\", y_train.shape)\n",
    "print(\"X_test.shape =\", X_test.shape)\n",
    "print(\"y_test.shape =\", y_test.shape)\n",
    "\n",
    "plt.imshow(X_train[0, :, :, 0], cmap='gist_gray')\n",
    "plt.show()"
   ]
  },
  {
   "cell_type": "code",
   "execution_count": 3,
   "metadata": {},
   "outputs": [],
   "source": [
    "def get_kernel_divergence_fn(train_size, w=1.0):\n",
    "    \"\"\"\n",
    "    Get the kernel Kullback-Leibler divergence function\n",
    "\n",
    "    # Arguments\n",
    "        train_size (int): size of the training dataset for normalization\n",
    "        w (float): weight to the function\n",
    "\n",
    "    # Returns\n",
    "        kernel_divergence_fn: kernel Kullback-Leibler divergence function\n",
    "    \"\"\"\n",
    "    def kernel_divergence_fn(q, p, _):  # need the third ignorable argument\n",
    "        kernel_divergence = tfp.distributions.kl_divergence(q, p) / tf.cast(train_size, tf.float32)\n",
    "        return w * kernel_divergence\n",
    "    return kernel_divergence_fn"
   ]
  },
  {
   "cell_type": "code",
   "execution_count": 4,
   "metadata": {},
   "outputs": [],
   "source": [
    "def add_kl_weight(layer, train_size, w_value=1.0):\n",
    "    w = layer.add_weight(name=layer.name+'/kl_loss_weight', shape=(),\n",
    "                         initializer=tf.initializers.constant(w_value), trainable=False)\n",
    "    layer.kernel_divergence_fn = get_kernel_divergence_fn(train_size, w)\n",
    "    return layer"
   ]
  },
  {
   "cell_type": "code",
   "execution_count": 7,
   "metadata": {},
   "outputs": [],
   "source": [
    "def neg_log_likelihood_with_logits(y_true, y_pred):\n",
    "    y_pred_dist = tfp.distributions.Categorical(logits=y_pred)\n",
    "    return -tf.reduce_mean(y_pred_dist.log_prob(tf.argmax(y_true, axis=-1)))"
   ]
  },
  {
   "cell_type": "code",
   "execution_count": null,
   "metadata": {},
   "outputs": [
    {
     "name": "stdout",
     "output_type": "stream",
     "text": [
      "Model: \"model_4\"\n",
      "_________________________________________________________________\n",
      "Layer (type)                 Output Shape              Param #   \n",
      "=================================================================\n",
      "input_5 (InputLayer)         [(None, 28, 28, 1)]       0         \n",
      "_________________________________________________________________\n",
      "conv2d_flipout_8 (Conv2DFlip (None, 14, 14, 32)        609       \n",
      "_________________________________________________________________\n",
      "batch_normalization_8 (Batch (None, 14, 14, 32)        128       \n",
      "_________________________________________________________________\n",
      "activation_8 (Activation)    (None, 14, 14, 32)        0         \n",
      "_________________________________________________________________\n",
      "conv2d_flipout_9 (Conv2DFlip (None, 7, 7, 64)          36929     \n",
      "_________________________________________________________________\n",
      "batch_normalization_9 (Batch (None, 7, 7, 64)          256       \n",
      "_________________________________________________________________\n",
      "activation_9 (Activation)    (None, 7, 7, 64)          0         \n",
      "_________________________________________________________________\n",
      "flatten_4 (Flatten)          (None, 3136)              0         \n",
      "_________________________________________________________________\n",
      "dense_flipout_8 (DenseFlipou (None, 512)               3211777   \n",
      "_________________________________________________________________\n",
      "dense_flipout_9 (DenseFlipou (None, 10)                10251     \n",
      "=================================================================\n",
      "Total params: 3,259,950\n",
      "Trainable params: 3,259,754\n",
      "Non-trainable params: 196\n",
      "_________________________________________________________________\n",
      "Train on 54000 samples, validate on 6000 samples\n",
      "Epoch 1/20\n",
      "54000/54000 [==============================] - 133s 2ms/sample - loss: 67.6109 - acc: 0.8318 - val_loss: 64.8014 - val_acc: 0.9337\n",
      "Epoch 2/20\n",
      "54000/54000 [==============================] - 195s 4ms/sample - loss: 62.0731 - acc: 0.9388 - val_loss: 59.1377 - val_acc: 0.9615\n",
      "Epoch 3/20\n",
      "54000/54000 [==============================] - 230s 4ms/sample - loss: 56.1070 - acc: 0.9592 - val_loss: 52.9673 - val_acc: 0.9682\n",
      "Epoch 4/20\n",
      "41088/54000 [=====================>........] - ETA: 59s - loss: 50.5355 - acc: 0.9667 "
     ]
    }
   ],
   "source": [
    "def build_bayesian_bcnn_model(input_shape, train_size):\n",
    "    model_in = tf.keras.layers.Input(shape=input_shape)\n",
    "    conv_1 = tfp.layers.Convolution2DFlipout(32, kernel_size=(3, 3), padding=\"same\", strides=2,\n",
    "                                  kernel_divergence_fn=None)\n",
    "    conv_1 = add_kl_weight(conv_1, train_size)\n",
    "    x = conv_1(model_in)\n",
    "    x = tf.keras.layers.BatchNormalization()(x)\n",
    "    x = tf.keras.layers.Activation('relu')(x)\n",
    "    conv_2 = tfp.layers.Convolution2DFlipout(64, kernel_size=(3, 3), padding=\"same\", strides=2,\n",
    "                                  kernel_divergence_fn=None)\n",
    "    conv_2 = add_kl_weight(conv_2, train_size)\n",
    "    x = conv_2(x)\n",
    "    x = tf.keras.layers.BatchNormalization()(x)\n",
    "    x = tf.keras.layers.Activation('relu')(x)\n",
    "    x = tf.keras.layers.Flatten()(x)\n",
    "    dense_1 = tfp.layers.DenseFlipout(512, activation='relu',\n",
    "                           kernel_divergence_fn=None)\n",
    "    dense_1 = add_kl_weight(dense_1, train_size)\n",
    "    x = dense_1(x)\n",
    "    dense_2 = tfp.layers.DenseFlipout(10, activation=None,\n",
    "                           kernel_divergence_fn=None)\n",
    "    dense_2 = add_kl_weight(dense_2, train_size)\n",
    "    model_out = dense_2(x)  # logits\n",
    "    model = tf.keras.Model(model_in, model_out)\n",
    "    return model\n",
    "    \n",
    "bcnn_model = build_bayesian_bcnn_model(X_train.shape[1:], n_train)\n",
    "bcnn_model.compile(loss=neg_log_likelihood_with_logits, optimizer=tf.keras.optimizers.Adam(), metrics=['acc'],\n",
    "                   experimental_run_tf_function=False)\n",
    "bcnn_model.summary()\n",
    "hist = bcnn_model.fit(X_train, y_train, batch_size=128, epochs=20, verbose=1, validation_split=0.1)"
   ]
  }
 ],
 "metadata": {
  "kernelspec": {
   "display_name": "Python 3",
   "language": "python",
   "name": "python3"
  },
  "language_info": {
   "codemirror_mode": {
    "name": "ipython",
    "version": 3
   },
   "file_extension": ".py",
   "mimetype": "text/x-python",
   "name": "python",
   "nbconvert_exporter": "python",
   "pygments_lexer": "ipython3",
   "version": "3.8.0"
  }
 },
 "nbformat": 4,
 "nbformat_minor": 2
}
